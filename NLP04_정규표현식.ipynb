{
 "cells": [
  {
   "cell_type": "markdown",
   "id": "cfd942d3",
   "metadata": {},
   "source": [
    "# 정규 표현식"
   ]
  },
  {
   "cell_type": "markdown",
   "id": "950cc73b",
   "metadata": {},
   "source": [
    "(.) 기호"
   ]
  },
  {
   "cell_type": "code",
   "execution_count": 1,
   "id": "545a31f4",
   "metadata": {},
   "outputs": [
    {
     "data": {
      "text/plain": [
       "<re.Match object; span=(0, 3), match='abc'>"
      ]
     },
     "execution_count": 1,
     "metadata": {},
     "output_type": "execute_result"
    }
   ],
   "source": [
    "import re\n",
    "r=re.compile(\"a.c\")  #a.c사이에는 어떤 1개의 문자라도 올 수 있다.\n",
    "r.search(\"kkk\") # 아무런 결과도 출력되지 않는다.\n",
    "\n",
    "r.search(\"abc\")"
   ]
  },
  {
   "cell_type": "markdown",
   "id": "dad3b19b",
   "metadata": {},
   "source": [
    "(?) 기호"
   ]
  },
  {
   "cell_type": "code",
   "execution_count": 2,
   "id": "9d573bd3",
   "metadata": {},
   "outputs": [
    {
     "data": {
      "text/plain": [
       "<re.Match object; span=(0, 3), match='abc'>"
      ]
     },
     "execution_count": 2,
     "metadata": {},
     "output_type": "execute_result"
    }
   ],
   "source": [
    "import re\n",
    "r=re.compile(\"ab?c\")  #해당 정규 표현식에서 b는 있다고 취급할 수도 있고, 없다고 취급할 수 있다.\n",
    "r.search(\"abbc\") # 아무런 결과도 출력되지 않는다.\n",
    "\n",
    "r.search(\"abc\")"
   ]
  },
  {
   "cell_type": "markdown",
   "id": "ec1019a7",
   "metadata": {},
   "source": [
    "(*) 기호"
   ]
  },
  {
   "cell_type": "code",
   "execution_count": 3,
   "id": "e7e86633",
   "metadata": {},
   "outputs": [
    {
     "data": {
      "text/plain": [
       "<re.Match object; span=(0, 2), match='ac'>"
      ]
     },
     "execution_count": 3,
     "metadata": {},
     "output_type": "execute_result"
    }
   ],
   "source": [
    "import re\n",
    "r=re.compile(\"ab*c\")# *의 바로 앞 문자가 0개 이상일 경우 나타낸다\n",
    "r.search(\"a\") # 아무런 결과도 출력되지 않는다.\n",
    "\n",
    "r.search(\"ac\")"
   ]
  },
  {
   "cell_type": "markdown",
   "id": "a602ca4f",
   "metadata": {},
   "source": [
    "(+) 기호"
   ]
  },
  {
   "cell_type": "code",
   "execution_count": 4,
   "id": "95d5c95a",
   "metadata": {},
   "outputs": [
    {
     "data": {
      "text/plain": [
       "<re.Match object; span=(0, 3), match='abc'>"
      ]
     },
     "execution_count": 4,
     "metadata": {},
     "output_type": "execute_result"
    }
   ],
   "source": [
    "import re\n",
    "r=re.compile(\"ab+c\")  # + 앞 문자가 최소 1개 이상이어야 한다\n",
    "r.search(\"ac\") # 아무런 결과도 출력되지 않는다.\n",
    "r.search(\"abc\")"
   ]
  },
  {
   "cell_type": "markdown",
   "id": "299182c1",
   "metadata": {},
   "source": [
    "(^) 기호 :   가령 정규표현식이 ^a라면 a로 시작되는 문자열만을 찾아낸다"
   ]
  },
  {
   "cell_type": "code",
   "execution_count": 5,
   "id": "c9ee517d",
   "metadata": {},
   "outputs": [
    {
     "data": {
      "text/plain": [
       "<re.Match object; span=(0, 1), match='a'>"
      ]
     },
     "execution_count": 5,
     "metadata": {},
     "output_type": "execute_result"
    }
   ],
   "source": [
    "import re\n",
    "r=re.compile(\"^a\")\n",
    "r.search(\"bbc\") # 아무런 결과도 출력되지 않는다.\n",
    "r.search(\"ab\")   "
   ]
  },
  {
   "cell_type": "markdown",
   "id": "929cec59",
   "metadata": {},
   "source": [
    "{숫자} 기호 : 해당 문자를 숫자만큼 반복한 것.\n",
    "\n",
    "예를 들어서 정규 표현식이 ab{2}c라면 a와 c 사이에 b가 존재하면서 b가 2개인 문자열에 대해서 매치"
   ]
  },
  {
   "cell_type": "code",
   "execution_count": 6,
   "id": "cc249c91",
   "metadata": {},
   "outputs": [
    {
     "data": {
      "text/plain": [
       "<re.Match object; span=(0, 4), match='abbc'>"
      ]
     },
     "execution_count": 6,
     "metadata": {},
     "output_type": "execute_result"
    }
   ],
   "source": [
    "import re\n",
    "r=re.compile(\"ab{2}c\")\n",
    "r.search(\"ac\") # 아무런 결과도 출력되지 않는다.\n",
    "r.search(\"abc\") # 아무런 결과도 출력되지 않는다.\n",
    "r.search(\"abbc\")"
   ]
  },
  {
   "cell_type": "markdown",
   "id": "d454d1ec",
   "metadata": {},
   "source": [
    "{숫자1, 숫자2} 기호 :  해당 문자를 숫자1 이상 숫자2 이하만큼 반복"
   ]
  },
  {
   "cell_type": "code",
   "execution_count": 7,
   "id": "c9e0e49e",
   "metadata": {},
   "outputs": [
    {
     "data": {
      "text/plain": [
       "<re.Match object; span=(0, 10), match='abbbbbbbbc'>"
      ]
     },
     "execution_count": 7,
     "metadata": {},
     "output_type": "execute_result"
    }
   ],
   "source": [
    "import re\n",
    "r=re.compile(\"ab{2,8}c\")\n",
    "r.search(\"ac\") # 아무런 결과도 출력되지 않는다.\n",
    "r.search(\"abc\") # 아무런 결과도 출력되지 않는다.\n",
    "\n",
    "r.search(\"abbc\")\n",
    "r.search(\"abbbbbbbbc\")"
   ]
  },
  {
   "cell_type": "markdown",
   "id": "334d2fde",
   "metadata": {},
   "source": [
    "{숫자,} 기호 : 문자에 해당 기호를 붙이면 해당 문자를 숫자 이상 만큼 반복"
   ]
  },
  {
   "cell_type": "code",
   "execution_count": 8,
   "id": "f520f318",
   "metadata": {},
   "outputs": [
    {
     "data": {
      "text/plain": [
       "<re.Match object; span=(0, 4), match='aabc'>"
      ]
     },
     "execution_count": 8,
     "metadata": {},
     "output_type": "execute_result"
    }
   ],
   "source": [
    "import re\n",
    "r=re.compile(\"a{2,}bc\")\n",
    "r.search(\"bc\") # 아무런 결과도 출력되지 않는다.\n",
    "r.search(\"aa\") # 아무런 결과도 출력되지 않는다.\n",
    "\n",
    "r.search(\"aabc\")"
   ]
  },
  {
   "cell_type": "markdown",
   "id": "2f584726",
   "metadata": {},
   "source": [
    "[ ] 기호 : [ ]안에 문자들을 넣으면 그 문자들 중 한 개의 문자와 매치"
   ]
  },
  {
   "cell_type": "code",
   "execution_count": 10,
   "id": "556c1bb4",
   "metadata": {},
   "outputs": [
    {
     "data": {
      "text/plain": [
       "<re.Match object; span=(0, 1), match='a'>"
      ]
     },
     "execution_count": 10,
     "metadata": {},
     "output_type": "execute_result"
    }
   ],
   "source": [
    "import re\n",
    "r=re.compile(\"[abc]\") # [abc]는 [a-c]와 같다.\n",
    "r.search(\"zzz\") # 아무런 결과도 출력되지 않는다.\n",
    "r.search(\"aaaaaaa\")    "
   ]
  },
  {
   "cell_type": "code",
   "execution_count": 11,
   "id": "bcfc8205",
   "metadata": {},
   "outputs": [
    {
     "data": {
      "text/plain": [
       "<re.Match object; span=(0, 1), match='a'>"
      ]
     },
     "execution_count": 11,
     "metadata": {},
     "output_type": "execute_result"
    }
   ],
   "source": [
    "# 알파벳 소문자에 대해서만 범위 지정을 할 수 있다.\n",
    "\n",
    "import re\n",
    "r=re.compile(\"[a-z]\")\n",
    "r.search(\"AAA\") # 아무런 결과도 출력되지 않는다.\n",
    "r.search(\"aBC\")"
   ]
  },
  {
   "cell_type": "markdown",
   "id": "6cbb47f6",
   "metadata": {},
   "source": [
    "[^문자] 기호 : 여기서는 ^ 기호 뒤에 붙은 문자들을 제외한 모든 문자를 매치하는 역할"
   ]
  },
  {
   "cell_type": "code",
   "execution_count": 13,
   "id": "1e8dea02",
   "metadata": {},
   "outputs": [
    {
     "data": {
      "text/plain": [
       "<re.Match object; span=(0, 1), match='d'>"
      ]
     },
     "execution_count": 13,
     "metadata": {},
     "output_type": "execute_result"
    }
   ],
   "source": [
    "import re\n",
    "r=re.compile(\"[^abc]\")\n",
    "r.search(\"a\") # 아무런 결과도 출력되지 않는다.\n",
    "r.search(\"ab\") # 아무런 결과도 출력되지 않는다.\n",
    "r.search(\"b\") # 아무런 결과도 출력되지 않는다.\n",
    "r.search(\"d\")"
   ]
  },
  {
   "cell_type": "code",
   "execution_count": null,
   "id": "f5a6753e",
   "metadata": {},
   "outputs": [],
   "source": []
  }
 ],
 "metadata": {
  "kernelspec": {
   "display_name": "Python 3",
   "language": "python",
   "name": "python3"
  },
  "language_info": {
   "codemirror_mode": {
    "name": "ipython",
    "version": 3
   },
   "file_extension": ".py",
   "mimetype": "text/x-python",
   "name": "python",
   "nbconvert_exporter": "python",
   "pygments_lexer": "ipython3",
   "version": "3.8.8"
  },
  "vp": {
   "base_numbering": 1,
   "nav_menu": {},
   "number_sections": true,
   "sideBar": true,
   "title_cell": "VisualPython",
   "title_sidebar": "VisualPython",
   "vpPosition": {
    "height": "calc(100% - 180px)",
    "right": "10px",
    "top": "110px",
    "width": "50%"
   },
   "vp_cell": false,
   "vp_section_display": true,
   "vp_window_display": false
  }
 },
 "nbformat": 4,
 "nbformat_minor": 5
}
